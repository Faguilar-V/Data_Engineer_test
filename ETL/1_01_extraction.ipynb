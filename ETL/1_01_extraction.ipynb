{
 "cells": [
  {
   "cell_type": "markdown",
   "metadata": {},
   "source": [
    "# Extraction process\n"
   ]
  },
  {
   "cell_type": "code",
   "execution_count": 86,
   "metadata": {},
   "outputs": [],
   "source": [
    "from pymongo import MongoClient\n",
    "import access\n",
    "\n",
    "LINK = \"cluster0.ea7z2.mongodb.net/test?authSource=admin&replicaSet=atlas-12cjke-shard-0&readPreference=primary&appname=MongoDB%20Compass&ssl=true\"\n",
    "USERNAME = access.USERNAME\n",
    "PASSWORD = access.PASSWORD\n",
    "client = MongoClient(\"mongodb+srv://%s:%s@%s\" %(USERNAME, PASSWORD, LINK))"
   ]
  },
  {
   "cell_type": "code",
   "execution_count": 87,
   "metadata": {},
   "outputs": [],
   "source": [
    "db = client.get_database('company')\n",
    "collection = db.payments"
   ]
  },
  {
   "cell_type": "code",
   "execution_count": 88,
   "metadata": {},
   "outputs": [
    {
     "name": "stdout",
     "output_type": "stream",
     "text": [
      "How many documents are there in total? ans=10000\n"
     ]
    }
   ],
   "source": [
    "print(\"How many documents are there in total? ans=%s\" %(collection.count_documents({})))# get all\n"
   ]
  },
  {
   "cell_type": "code",
   "execution_count": 89,
   "metadata": {},
   "outputs": [
    {
     "name": "stdout",
     "output_type": "stream",
     "text": [
      "¿How many payments are pending of payment? ans=1881\n"
     ]
    }
   ],
   "source": [
    "query = { \"status\": \"pending_payment\" }\n",
    "print('¿How many payments are pending of payment? ans=%s'%(len(list(collection.find(query)))))"
   ]
  },
  {
   "cell_type": "code",
   "execution_count": 90,
   "metadata": {},
   "outputs": [
    {
     "name": "stdout",
     "output_type": "stream",
     "text": [
      "¿How many payments were paid? ans=5892\n"
     ]
    }
   ],
   "source": [
    "query = { \"status\": \"paid\" }\n",
    "print('¿How many payments were paid? ans=%s'%(len(list(collection.find(query)))))"
   ]
  },
  {
   "cell_type": "code",
   "execution_count": 91,
   "metadata": {},
   "outputs": [
    {
     "name": "stdout",
     "output_type": "stream",
     "text": [
      "¿How many payments were refunded? ans=93\n"
     ]
    }
   ],
   "source": [
    "query = { \"status\": \"refunded\" }\n",
    "print('¿How many payments were refunded? ans=%s'%(len(list(collection.find(query)))))"
   ]
  },
  {
   "cell_type": "code",
   "execution_count": 92,
   "metadata": {},
   "outputs": [
    {
     "name": "stdout",
     "output_type": "stream",
     "text": [
      "¿How many payments were created in January? ans=2069\n"
     ]
    }
   ],
   "source": [
    "query = { \"created_at\": {\"$lt\": '2019-02-01'} }\n",
    "print('¿How many payments were created in January? ans=%s'%(len(list(collection.find(query)))))"
   ]
  },
  {
   "cell_type": "code",
   "execution_count": 93,
   "metadata": {},
   "outputs": [
    {
     "name": "stdout",
     "output_type": "stream",
     "text": [
      "¿How many payments were created in March? ans=2382\n"
     ]
    }
   ],
   "source": [
    "query = { \"$and\": [ {\"created_at\": {\"$gte\":\"2019-03-1\"} }, { \"created_at\": {\"$lt\":\"2019-04-1\"} } ] }\n",
    "print('¿How many payments were created in March? ans=%s'%(len(list(collection.find(query)))))"
   ]
  },
  {
   "cell_type": "code",
   "execution_count": 94,
   "metadata": {},
   "outputs": [
    {
     "data": {
      "text/plain": [
       "array(['MiPasajefy', 'Muebles chidos', nan, 'MiPas0xFFFF', 'MiP0xFFFF'],\n",
       "      dtype=object)"
      ]
     },
     "execution_count": 94,
     "metadata": {},
     "output_type": "execute_result"
    }
   ],
   "source": [
    "import pandas as pd\n",
    "\n",
    "path = '../data/data_prueba_tecnica_.csv'\n",
    "df = pd.read_csv(path)\n",
    "    \n",
    "df.name.unique()\n"
   ]
  },
  {
   "cell_type": "code",
   "execution_count": 76,
   "metadata": {},
   "outputs": [
    {
     "data": {
      "text/html": [
       "<div>\n",
       "<style scoped>\n",
       "    .dataframe tbody tr th:only-of-type {\n",
       "        vertical-align: middle;\n",
       "    }\n",
       "\n",
       "    .dataframe tbody tr th {\n",
       "        vertical-align: top;\n",
       "    }\n",
       "\n",
       "    .dataframe thead th {\n",
       "        text-align: right;\n",
       "    }\n",
       "</style>\n",
       "<table border=\"1\" class=\"dataframe\">\n",
       "  <thead>\n",
       "    <tr style=\"text-align: right;\">\n",
       "      <th></th>\n",
       "      <th>id</th>\n",
       "      <th>name</th>\n",
       "      <th>company_id</th>\n",
       "      <th>amount</th>\n",
       "      <th>status</th>\n",
       "      <th>created_at</th>\n",
       "      <th>paid_at</th>\n",
       "    </tr>\n",
       "  </thead>\n",
       "  <tbody>\n",
       "    <tr>\n",
       "      <th>603</th>\n",
       "      <td>701ed7d3e728c41ecf58639f64de12d7dc2fc4df</td>\n",
       "      <td>MiPasajefy</td>\n",
       "      <td>*******</td>\n",
       "      <td>92.66</td>\n",
       "      <td>paid</td>\n",
       "      <td>2019-02-27</td>\n",
       "      <td>2019-02-27</td>\n",
       "    </tr>\n",
       "  </tbody>\n",
       "</table>\n",
       "</div>"
      ],
      "text/plain": [
       "                                           id        name company_id  amount  \\\n",
       "603  701ed7d3e728c41ecf58639f64de12d7dc2fc4df  MiPasajefy    *******   92.66   \n",
       "\n",
       "    status  created_at     paid_at  \n",
       "603   paid  2019-02-27  2019-02-27  "
      ]
     },
     "execution_count": 76,
     "metadata": {},
     "output_type": "execute_result"
    }
   ],
   "source": [
    "df[df.company_id == '*******']\n",
    "#df.info()"
   ]
  },
  {
   "cell_type": "code",
   "execution_count": 49,
   "metadata": {},
   "outputs": [],
   "source": [
    "df.replace(df.name.unique()[-2], 'MiPasajefy', inplace=True)"
   ]
  },
  {
   "cell_type": "code",
   "execution_count": 50,
   "metadata": {},
   "outputs": [],
   "source": [
    "com_name = df[df.company_id == df.company_id.unique()[-1]].name.values[0]\n",
    "c_id = df[df.name == com_name].company_id.iloc[0]\n",
    "df.replace(df.company_id.unique()[-1], c_id, inplace=True)"
   ]
  },
  {
   "cell_type": "code",
   "execution_count": 52,
   "metadata": {},
   "outputs": [
    {
     "name": "stdout",
     "output_type": "stream",
     "text": [
      "<class 'pandas.core.frame.DataFrame'>\n",
      "RangeIndex: 10000 entries, 0 to 9999\n",
      "Data columns (total 7 columns):\n",
      " #   Column      Non-Null Count  Dtype  \n",
      "---  ------      --------------  -----  \n",
      " 0   id          9997 non-null   object \n",
      " 1   name        9997 non-null   object \n",
      " 2   company_id  9996 non-null   object \n",
      " 3   amount      10000 non-null  float64\n",
      " 4   status      10000 non-null  object \n",
      " 5   created_at  10000 non-null  object \n",
      " 6   paid_at     6009 non-null   object \n",
      "dtypes: float64(1), object(6)\n",
      "memory usage: 547.0+ KB\n"
     ]
    }
   ],
   "source": [
    "df.info()"
   ]
  },
  {
   "cell_type": "code",
   "execution_count": 56,
   "metadata": {},
   "outputs": [
    {
     "data": {
      "text/html": [
       "<div>\n",
       "<style scoped>\n",
       "    .dataframe tbody tr th:only-of-type {\n",
       "        vertical-align: middle;\n",
       "    }\n",
       "\n",
       "    .dataframe tbody tr th {\n",
       "        vertical-align: top;\n",
       "    }\n",
       "\n",
       "    .dataframe thead th {\n",
       "        text-align: right;\n",
       "    }\n",
       "</style>\n",
       "<table border=\"1\" class=\"dataframe\">\n",
       "  <thead>\n",
       "    <tr style=\"text-align: right;\">\n",
       "      <th></th>\n",
       "      <th>id</th>\n",
       "      <th>name</th>\n",
       "      <th>company_id</th>\n",
       "      <th>amount</th>\n",
       "      <th>status</th>\n",
       "      <th>created_at</th>\n",
       "      <th>paid_at</th>\n",
       "    </tr>\n",
       "  </thead>\n",
       "  <tbody>\n",
       "    <tr>\n",
       "      <th>78</th>\n",
       "      <td>496d2511ac4e58e78d6540142590c54e507af7d9</td>\n",
       "      <td>Muebles chidos</td>\n",
       "      <td>8f642dc67fccf861548dfe1c761ce22f795e91f0</td>\n",
       "      <td>5599.0</td>\n",
       "      <td>pending_payment</td>\n",
       "      <td>2019-02-19</td>\n",
       "      <td>NaN</td>\n",
       "    </tr>\n",
       "    <tr>\n",
       "      <th>149</th>\n",
       "      <td>0721dfedacebe920239e1b20265b91cb925d52da</td>\n",
       "      <td>Muebles chidos</td>\n",
       "      <td>8f642dc67fccf861548dfe1c761ce22f795e91f0</td>\n",
       "      <td>7313.1</td>\n",
       "      <td>pending_payment</td>\n",
       "      <td>2019-04-02</td>\n",
       "      <td>NaN</td>\n",
       "    </tr>\n",
       "    <tr>\n",
       "      <th>174</th>\n",
       "      <td>f62b8330618ae438ea8fec2de21b58ead5a33fe8</td>\n",
       "      <td>Muebles chidos</td>\n",
       "      <td>8f642dc67fccf861548dfe1c761ce22f795e91f0</td>\n",
       "      <td>7999.0</td>\n",
       "      <td>pending_payment</td>\n",
       "      <td>2019-03-27</td>\n",
       "      <td>NaN</td>\n",
       "    </tr>\n",
       "    <tr>\n",
       "      <th>177</th>\n",
       "      <td>09151ac974a0ea1bb172c2632752b1e3d80d1b96</td>\n",
       "      <td>Muebles chidos</td>\n",
       "      <td>8f642dc67fccf861548dfe1c761ce22f795e91f0</td>\n",
       "      <td>699.0</td>\n",
       "      <td>paid</td>\n",
       "      <td>2019-04-29</td>\n",
       "      <td>2019-04-29</td>\n",
       "    </tr>\n",
       "    <tr>\n",
       "      <th>244</th>\n",
       "      <td>51258a0e4f9a5a5d89ea80cefa5a3ef9e9df6692</td>\n",
       "      <td>Muebles chidos</td>\n",
       "      <td>8f642dc67fccf861548dfe1c761ce22f795e91f0</td>\n",
       "      <td>3068.0</td>\n",
       "      <td>paid</td>\n",
       "      <td>2019-02-22</td>\n",
       "      <td>2019-02-25</td>\n",
       "    </tr>\n",
       "    <tr>\n",
       "      <th>...</th>\n",
       "      <td>...</td>\n",
       "      <td>...</td>\n",
       "      <td>...</td>\n",
       "      <td>...</td>\n",
       "      <td>...</td>\n",
       "      <td>...</td>\n",
       "      <td>...</td>\n",
       "    </tr>\n",
       "    <tr>\n",
       "      <th>9604</th>\n",
       "      <td>331f9c2ae12912e4102b3f75bcd331040c8f37a2</td>\n",
       "      <td>Muebles chidos</td>\n",
       "      <td>8f642dc67fccf861548dfe1c761ce22f795e91f0</td>\n",
       "      <td>7997.0</td>\n",
       "      <td>pending_payment</td>\n",
       "      <td>2019-02-07</td>\n",
       "      <td>NaN</td>\n",
       "    </tr>\n",
       "    <tr>\n",
       "      <th>9700</th>\n",
       "      <td>50b6a77d83712a2121f396471f344818fbb51e6a</td>\n",
       "      <td>Muebles chidos</td>\n",
       "      <td>8f642dc67fccf861548dfe1c761ce22f795e91f0</td>\n",
       "      <td>6617.0</td>\n",
       "      <td>pending_payment</td>\n",
       "      <td>2019-04-18</td>\n",
       "      <td>NaN</td>\n",
       "    </tr>\n",
       "    <tr>\n",
       "      <th>9748</th>\n",
       "      <td>25c503f4190720e7fd3a92bbe67490e3e4c6bb1e</td>\n",
       "      <td>Muebles chidos</td>\n",
       "      <td>8f642dc67fccf861548dfe1c761ce22f795e91f0</td>\n",
       "      <td>9999.0</td>\n",
       "      <td>paid</td>\n",
       "      <td>2019-01-26</td>\n",
       "      <td>2019-01-26</td>\n",
       "    </tr>\n",
       "    <tr>\n",
       "      <th>9779</th>\n",
       "      <td>20bbe7f6a5a05425c19c454e04dfa4dda57dd7e5</td>\n",
       "      <td>Muebles chidos</td>\n",
       "      <td>8f642dc67fccf861548dfe1c761ce22f795e91f0</td>\n",
       "      <td>489.0</td>\n",
       "      <td>paid</td>\n",
       "      <td>2019-02-28</td>\n",
       "      <td>2019-02-28</td>\n",
       "    </tr>\n",
       "    <tr>\n",
       "      <th>9790</th>\n",
       "      <td>ac6bf9129f31fb2c3ba5bdfcb8fc3d23ced4ec09</td>\n",
       "      <td>Muebles chidos</td>\n",
       "      <td>8f642dc67fccf861548dfe1c761ce22f795e91f0</td>\n",
       "      <td>7999.0</td>\n",
       "      <td>pending_payment</td>\n",
       "      <td>2019-01-24</td>\n",
       "      <td>NaN</td>\n",
       "    </tr>\n",
       "  </tbody>\n",
       "</table>\n",
       "<p>96 rows × 7 columns</p>\n",
       "</div>"
      ],
      "text/plain": [
       "                                            id            name  \\\n",
       "78    496d2511ac4e58e78d6540142590c54e507af7d9  Muebles chidos   \n",
       "149   0721dfedacebe920239e1b20265b91cb925d52da  Muebles chidos   \n",
       "174   f62b8330618ae438ea8fec2de21b58ead5a33fe8  Muebles chidos   \n",
       "177   09151ac974a0ea1bb172c2632752b1e3d80d1b96  Muebles chidos   \n",
       "244   51258a0e4f9a5a5d89ea80cefa5a3ef9e9df6692  Muebles chidos   \n",
       "...                                        ...             ...   \n",
       "9604  331f9c2ae12912e4102b3f75bcd331040c8f37a2  Muebles chidos   \n",
       "9700  50b6a77d83712a2121f396471f344818fbb51e6a  Muebles chidos   \n",
       "9748  25c503f4190720e7fd3a92bbe67490e3e4c6bb1e  Muebles chidos   \n",
       "9779  20bbe7f6a5a05425c19c454e04dfa4dda57dd7e5  Muebles chidos   \n",
       "9790  ac6bf9129f31fb2c3ba5bdfcb8fc3d23ced4ec09  Muebles chidos   \n",
       "\n",
       "                                    company_id  amount           status  \\\n",
       "78    8f642dc67fccf861548dfe1c761ce22f795e91f0  5599.0  pending_payment   \n",
       "149   8f642dc67fccf861548dfe1c761ce22f795e91f0  7313.1  pending_payment   \n",
       "174   8f642dc67fccf861548dfe1c761ce22f795e91f0  7999.0  pending_payment   \n",
       "177   8f642dc67fccf861548dfe1c761ce22f795e91f0   699.0             paid   \n",
       "244   8f642dc67fccf861548dfe1c761ce22f795e91f0  3068.0             paid   \n",
       "...                                        ...     ...              ...   \n",
       "9604  8f642dc67fccf861548dfe1c761ce22f795e91f0  7997.0  pending_payment   \n",
       "9700  8f642dc67fccf861548dfe1c761ce22f795e91f0  6617.0  pending_payment   \n",
       "9748  8f642dc67fccf861548dfe1c761ce22f795e91f0  9999.0             paid   \n",
       "9779  8f642dc67fccf861548dfe1c761ce22f795e91f0   489.0             paid   \n",
       "9790  8f642dc67fccf861548dfe1c761ce22f795e91f0  7999.0  pending_payment   \n",
       "\n",
       "      created_at     paid_at  \n",
       "78    2019-02-19         NaN  \n",
       "149   2019-04-02         NaN  \n",
       "174   2019-03-27         NaN  \n",
       "177   2019-04-29  2019-04-29  \n",
       "244   2019-02-22  2019-02-25  \n",
       "...          ...         ...  \n",
       "9604  2019-02-07         NaN  \n",
       "9700  2019-04-18         NaN  \n",
       "9748  2019-01-26  2019-01-26  \n",
       "9779  2019-02-28  2019-02-28  \n",
       "9790  2019-01-24         NaN  \n",
       "\n",
       "[96 rows x 7 columns]"
      ]
     },
     "execution_count": 56,
     "metadata": {},
     "output_type": "execute_result"
    }
   ],
   "source": [
    "com_name = df[df.company_id == df.company_id.unique()[-2]].name.values[0]\n",
    "c_id = df[df.name == com_name].company_id.iloc[0]\n"
   ]
  },
  {
   "cell_type": "code",
   "execution_count": 62,
   "metadata": {},
   "outputs": [
    {
     "data": {
      "text/plain": [
       "array(['8f642dc67fccf861548dfe1c761ce22f795e91f0', nan], dtype=object)"
      ]
     },
     "execution_count": 62,
     "metadata": {},
     "output_type": "execute_result"
    }
   ],
   "source": [
    "\n",
    "df.company_id.unique()[-2:]"
   ]
  },
  {
   "cell_type": "code",
   "execution_count": 63,
   "metadata": {},
   "outputs": [
    {
     "data": {
      "text/plain": [
       "array([nan, 'MiP0xFFFF'], dtype=object)"
      ]
     },
     "execution_count": 63,
     "metadata": {},
     "output_type": "execute_result"
    }
   ],
   "source": [
    "df.name.unique()[-2:]"
   ]
  },
  {
   "cell_type": "code",
   "execution_count": null,
   "metadata": {},
   "outputs": [],
   "source": []
  }
 ],
 "metadata": {
  "kernelspec": {
   "display_name": "Python 3",
   "language": "python",
   "name": "python3"
  },
  "language_info": {
   "codemirror_mode": {
    "name": "ipython",
    "version": 3
   },
   "file_extension": ".py",
   "mimetype": "text/x-python",
   "name": "python",
   "nbconvert_exporter": "python",
   "pygments_lexer": "ipython3",
   "version": "3.9.5"
  }
 },
 "nbformat": 4,
 "nbformat_minor": 4
}
