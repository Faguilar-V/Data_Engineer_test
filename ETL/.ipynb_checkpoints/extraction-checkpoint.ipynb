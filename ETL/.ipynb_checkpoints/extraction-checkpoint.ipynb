{
 "cells": [
  {
   "cell_type": "markdown",
   "metadata": {},
   "source": [
    "# Extracction process\n"
   ]
  },
  {
   "cell_type": "code",
   "execution_count": 164,
   "metadata": {},
   "outputs": [
    {
     "ename": "AttributeError",
     "evalue": "module 'access' has no attribute 'URL'",
     "output_type": "error",
     "traceback": [
      "\u001b[1;31m---------------------------------------------------------------------------\u001b[0m",
      "\u001b[1;31mAttributeError\u001b[0m                            Traceback (most recent call last)",
      "\u001b[1;32m<ipython-input-164-2c792c558dc2>\u001b[0m in \u001b[0;36m<module>\u001b[1;34m\u001b[0m\n\u001b[0;32m      4\u001b[0m \u001b[0mUSERNAME\u001b[0m \u001b[1;33m=\u001b[0m \u001b[0maccess\u001b[0m\u001b[1;33m.\u001b[0m\u001b[0mUSERNAME\u001b[0m\u001b[1;33m\u001b[0m\u001b[1;33m\u001b[0m\u001b[0m\n\u001b[0;32m      5\u001b[0m \u001b[0mPASSWORD\u001b[0m \u001b[1;33m=\u001b[0m \u001b[0maccess\u001b[0m\u001b[1;33m.\u001b[0m\u001b[0mPASSWORD\u001b[0m\u001b[1;33m\u001b[0m\u001b[1;33m\u001b[0m\u001b[0m\n\u001b[1;32m----> 6\u001b[1;33m \u001b[0mURL\u001b[0m \u001b[1;33m=\u001b[0m \u001b[0maccess\u001b[0m\u001b[1;33m.\u001b[0m\u001b[0mURL\u001b[0m\u001b[1;33m\u001b[0m\u001b[1;33m\u001b[0m\u001b[0m\n\u001b[0m\u001b[0;32m      7\u001b[0m \u001b[0mclient\u001b[0m \u001b[1;33m=\u001b[0m \u001b[0mMongoClient\u001b[0m\u001b[1;33m(\u001b[0m\u001b[1;34m\"mongodb+srv://%s:%s@%s\"\u001b[0m \u001b[1;33m%\u001b[0m\u001b[1;33m(\u001b[0m\u001b[0mUSERNAME\u001b[0m\u001b[1;33m,\u001b[0m \u001b[0mPASSWORD\u001b[0m\u001b[1;33m,\u001b[0m \u001b[0mPATH\u001b[0m\u001b[1;33m)\u001b[0m\u001b[1;33m)\u001b[0m\u001b[1;33m\u001b[0m\u001b[1;33m\u001b[0m\u001b[0m\n",
      "\u001b[1;31mAttributeError\u001b[0m: module 'access' has no attribute 'URL'"
     ]
    }
   ],
   "source": [
    "from pymongo import MongoClient\n",
    "import access\n",
    "\n",
    "USERNAME = access.USERNAME\n",
    "PASSWORD = access.PASSWORD\n",
    "URL = access.URL\n",
    "client = MongoClient(\"mongodb+srv://%s:%s@%s\" %(USERNAME, PASSWORD, URL))"
   ]
  },
  {
   "cell_type": "code",
   "execution_count": 123,
   "metadata": {},
   "outputs": [],
   "source": [
    "db = client.get_database('company')\n",
    "collection = db.charges"
   ]
  },
  {
   "cell_type": "code",
   "execution_count": 124,
   "metadata": {},
   "outputs": [
    {
     "name": "stdout",
     "output_type": "stream",
     "text": [
      "How many documents are in total? ans=10000\n"
     ]
    }
   ],
   "source": [
    "print(\"How many documents are in total? ans=%s\" %(collection.count_documents({})))# get all\n"
   ]
  },
  {
   "cell_type": "code",
   "execution_count": 125,
   "metadata": {},
   "outputs": [
    {
     "name": "stdout",
     "output_type": "stream",
     "text": [
      "¿How many charges are pending of payment? ans=1881\n"
     ]
    }
   ],
   "source": [
    "query = { \"status\": \"pending_payment\" }\n",
    "print('¿How many charges are pending of payment? ans=%s'%(len(list(collection.find(query)))))"
   ]
  },
  {
   "cell_type": "code",
   "execution_count": 128,
   "metadata": {},
   "outputs": [
    {
     "name": "stdout",
     "output_type": "stream",
     "text": [
      "¿How many charges were paid? ans=5892\n"
     ]
    }
   ],
   "source": [
    "query = { \"status\": \"paid\" }\n",
    "print('¿How many charges were paid? ans=%s'%(len(list(collection.find(query)))))"
   ]
  },
  {
   "cell_type": "code",
   "execution_count": 129,
   "metadata": {},
   "outputs": [
    {
     "name": "stdout",
     "output_type": "stream",
     "text": [
      "¿How many charges were refunded? ans=93\n"
     ]
    }
   ],
   "source": [
    "query = { \"status\": \"refunded\" }\n",
    "print('¿How many charges were refunded? ans=%s'%(len(list(collection.find(query)))))"
   ]
  },
  {
   "cell_type": "code",
   "execution_count": 150,
   "metadata": {},
   "outputs": [
    {
     "name": "stdout",
     "output_type": "stream",
     "text": [
      "¿How many charges were created in January? ans=2071\n"
     ]
    }
   ],
   "source": [
    "query = { \"created_at\": {\"$lt\": '2019-02-01'} }\n",
    "print('¿How many charges were created in January? ans=%s'%(len(list(collection.find(query)))))"
   ]
  },
  {
   "cell_type": "code",
   "execution_count": 155,
   "metadata": {},
   "outputs": [
    {
     "name": "stdout",
     "output_type": "stream",
     "text": [
      "¿How many charges were created in March? ans=2382\n"
     ]
    }
   ],
   "source": [
    "query = { \"$and\": [ {\"created_at\": {\"$gte\":\"2019-03-1\"} }, { \"created_at\": {\"$lt\":\"2019-04-1\"} } ] }\n",
    "print('¿How many charges were created in March? ans=%s'%(len(list(collection.find(query)))))"
   ]
  }
 ],
 "metadata": {
  "kernelspec": {
   "display_name": "Python 3",
   "language": "python",
   "name": "python3"
  },
  "language_info": {
   "codemirror_mode": {
    "name": "ipython",
    "version": 3
   },
   "file_extension": ".py",
   "mimetype": "text/x-python",
   "name": "python",
   "nbconvert_exporter": "python",
   "pygments_lexer": "ipython3",
   "version": "3.9.5"
  }
 },
 "nbformat": 4,
 "nbformat_minor": 4
}
