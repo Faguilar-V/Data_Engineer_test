{
 "cells": [
  {
   "cell_type": "code",
   "execution_count": 1,
   "metadata": {},
   "outputs": [
    {
     "name": "stdout",
     "output_type": "stream",
     "text": [
      "1st step: input a natural number from 0 to 100\n",
      "45\n",
      "2rd step: The missing number is: 45\n"
     ]
    }
   ],
   "source": [
    "class Naturales:\n",
    "\n",
    "    arr = list(range(102)) \n",
    "    def __init__(self, n):\n",
    "        self.n = n\n",
    "\n",
    "    def extract(self):\n",
    "        if self.n <= 100:\n",
    "            self.arr.remove(self.n)\n",
    "            self.status = True\n",
    "        else:\n",
    "            self.arr = 'Not in the range [0, 100]'\n",
    "            self.status = False\n",
    "    def calc(self):\n",
    "        aux = -1\n",
    "        if self.status == True:\n",
    "            for i in self.arr:\n",
    "                if i-1 != aux:\n",
    "                    self.i = i-1\n",
    "                    break\n",
    "                else:\n",
    "                    aux += 1\n",
    "        else:\n",
    "            self.i = \"Not in the range [0, 100]\"\n",
    "\n",
    "\n",
    "if __name__ == '__main__':\n",
    "    print(\"1st step: input a natural number from 0 to 100\")\n",
    "    n = int(input())\n",
    "    r = Naturales(n)\n",
    "    r.extract()\n",
    "    r.calc()\n",
    "    print(\"2rd step: The missing number is: %s\" %(r.i))"
   ]
  },
  {
   "cell_type": "code",
   "execution_count": null,
   "metadata": {},
   "outputs": [],
   "source": [
    "import scala.collection.mutable.ArrayBuffer\n",
    "import scala.util.control.BreakControl\n",
    "import scala.util.control.Breaks._\n",
    "\n",
    "import scala.io.StdIn.readLine\n",
    "\n",
    "class Naturales(var n: Int=2){\n",
    "  var arr = ArrayBuffer.range(0, 102)  \n",
    "  \n",
    "  def extract:Unit={\n",
    "    if(n <= 100){\n",
    "      arr.remove(n)\n",
    "     println(s\"2nd step: int $n removed\") \n",
    "    }\n",
    "    else{\n",
    "      println(\"Not in the range [0, 100]\")\n",
    "    }\n",
    "  }\n",
    "  def calc:Unit={\n",
    "    var aux = -1\n",
    "    for(a <- arr){\n",
    "      if(a-1 != aux){\n",
    "        println(s\"3rd step: The missing number is: $n \")\n",
    "        break()\n",
    "      }\n",
    "      else{\n",
    "        aux += 1\n",
    "      }\n",
    "    }\n",
    "  }\n",
    "\n",
    "}\n",
    "\n",
    "println(\"1st step: input a natural number from 0 to 100\")\n",
    "var n = readLine()\n",
    "val nat = new Naturales(9)\n",
    "println(nat.n)  // prints n\n",
    "nat.extract // prints n\n",
    "println(nat.calc)  // prints n\n"
   ]
  }
 ],
 "metadata": {
  "kernelspec": {
   "display_name": "Python 3",
   "language": "python",
   "name": "python3"
  },
  "language_info": {
   "codemirror_mode": {
    "name": "ipython",
    "version": 3
   },
   "file_extension": ".py",
   "mimetype": "text/x-python",
   "name": "python",
   "nbconvert_exporter": "python",
   "pygments_lexer": "ipython3",
   "version": "3.9.5"
  }
 },
 "nbformat": 4,
 "nbformat_minor": 4
}
